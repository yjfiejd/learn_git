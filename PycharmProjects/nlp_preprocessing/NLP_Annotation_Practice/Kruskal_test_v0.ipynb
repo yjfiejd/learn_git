{
 "cells": [
  {
   "cell_type": "code",
   "execution_count": 1,
   "metadata": {},
   "outputs": [
    {
     "name": "stdout",
     "output_type": "stream",
     "text": [
      "7\n",
      "8\n",
      "10\n",
      "11\n",
      "12\n",
      "16\n",
      "16\n",
      "19\n",
      "The length of the minimum cost spanning tree is:  99\n"
     ]
    }
   ],
   "source": [
    "from pylab import *\n",
    "\n",
    "INFINITY = 65535                        #代表无穷大\n",
    "vexs = array([[0,10,INFINITY,INFINITY,INFINITY,11,INFINITY,INFINITY,INFINITY],#邻接矩阵\n",
    "        [10,0,18,INFINITY,INFINITY,INFINITY,16,INFINITY,12],\n",
    "        [INFINITY,18,0,22,INFINITY,INFINITY,INFINITY,INFINITY,8],\n",
    "        [INFINITY,INFINITY,22,0,20,INFINITY,INFINITY,16,21],\n",
    "        [INFINITY,INFINITY,INFINITY,20,0,26,INFINITY,7,INFINITY],\n",
    "        [11,INFINITY,INFINITY,INFINITY,26,0,17,INFINITY,INFINITY],\n",
    "        [INFINITY,16,INFINITY,24,INFINITY,17,0,19,INFINITY],\n",
    "        [INFINITY,INFINITY,INFINITY,16,7,INFINITY,19,0,INFINITY],\n",
    "        [INFINITY,12,8,21,INFINITY,INFINITY,INFINITY,INFINITY,0]])\n",
    "\n",
    "lengthVex = len(vexs)                   #邻接矩阵大小\n",
    "beginEdge = []\n",
    "endEdge = []\n",
    "weight = []\n",
    "group = []\n",
    "for i in arange(lengthVex):             #生成边集数组\n",
    "    group.append([i])\n",
    "    for j in arange(i+1,lengthVex):\n",
    "        if(vexs[i, j]>0 and vexs[i, j]<INFINITY):\n",
    "            beginEdge.append(i)         #每条边的起点\n",
    "            endEdge.append(j)           #每条边的终点\n",
    "            weight.append(vexs[i, j])   #每条边的权值\n",
    "\n",
    "lengthEdge = len(weight)                #边的条数\n",
    "sum = 0\n",
    "for i in arange(lengthEdge):            #遍历每条边\n",
    "    I = (argsort(weight))[0]\n",
    "    for j in arange(lengthVex):\n",
    "        if(beginEdge[I]) in group[j]:\n",
    "            m = j\n",
    "        if(endEdge[I]) in group[j]:\n",
    "            n = j\n",
    "    if m != n:                          #判断当前这条边是否属于不同的连通分量，如果是，将其合并\n",
    "        group[m] = group[m] + group[n]\n",
    "        group[n] = []\n",
    "        sum = sum + weight[I]\n",
    "        print(weight[I])\n",
    "    del weight[I]                       #删除遍历过的边以及顶点\n",
    "    del beginEdge[I]\n",
    "    del endEdge[I]\n",
    "print(\"The length of the minimum cost spanning tree is: \",sum)"
   ]
  },
  {
   "cell_type": "code",
   "execution_count": 9,
   "metadata": {},
   "outputs": [
    {
     "ename": "SyntaxError",
     "evalue": "Missing parentheses in call to 'print'. Did you mean print(\"Following are the edges in the constructed MST\")? (<ipython-input-9-58e082af1e22>, line 88)",
     "traceback": [
      "\u001b[0;36m  File \u001b[0;32m\"<ipython-input-9-58e082af1e22>\"\u001b[0;36m, line \u001b[0;32m88\u001b[0m\n\u001b[0;31m    print \"Following are the edges in the constructed MST\"\u001b[0m\n\u001b[0m                                                         ^\u001b[0m\n\u001b[0;31mSyntaxError\u001b[0m\u001b[0;31m:\u001b[0m Missing parentheses in call to 'print'. Did you mean print(\"Following are the edges in the constructed MST\")?\n"
     ],
     "output_type": "error"
    }
   ],
   "source": [
    "G = {\n",
    "    0:{},\n",
    "    1: {1: 1, 2: 2},\n",
    "    2: {1: 1, 3: 6, 4: 11},\n",
    "    3: {1: 2, 2: 6, 4: 9, 5: 13},\n",
    "    4: {2: 11, 3: 9, 5: 7, 6: 3},\n",
    "    5: {3: 13, 4: 7, 6: 4},\n",
    "    6: {4: 3, 5: 4},\n",
    "}\n",
    "# '''\n",
    "# Kruskal算法\n",
    "# 各种变量：\n",
    "# C：形如{u1:v1,u2:v2,....}的字典，主要用来寻找代表节点(祖先节点)。初始化，v1=u1,v2=u2....\n",
    "# 如a-b-c-d {a:a,b:a,c:b,d:c}\n",
    "# G：图\n",
    "# E：列表，存放着形如(e,u,v)的字典，e：权值，u：源点，v：目标点\n",
    "# '''\n",
    "def find(C, u):\n",
    "# '''\n",
    "# 寻找代表节点(祖先节点)\n",
    "# 这里使用的是路径压缩的方法（path compression）\n",
    "# '''\n",
    "    if C[u] != u:\n",
    "        C[u] = find(C, C[u])\n",
    "    return C[u]\n",
    "def naive_union(C, u, v):\n",
    "#     '''\n",
    "# 把较小的指向较大的\n",
    "# '''\n",
    "    u, v = find(C, u), find(C, v)\n",
    "    # u的祖先节点指向v的祖先节点\n",
    "    C[u] = v\n",
    "def kruskal(G):\n",
    "    E = [(G[u][v], u, v) for u, _ in enumerate(G) for v in G[u]]\n",
    "    T = set()\n",
    "    C = {u: u for u, _ in enumerate(G)}\n",
    "    for _, u, v in sorted(E):\n",
    "        if find(C, u) != find(C, v): # 边的源点的祖先不等于边的目的祖先（因为相等的话说明该点已经添加过了，否则为默认值）\n",
    "            T.add((u, v)) # 添加\n",
    "            naive_union(C, u, v) # 合并，使目标节点变成生成树的一部分（修改其祖先）。\n",
    "    return T,C\n",
    "# ------测试结果---------\n",
    "sum_count = 0\n",
    "T = kruskal(G)\n",
    "for k, v in T:\n",
    "    sum_count += G[k][v]\n",
    "    \n",
    "print(sum_count)\n",
    "print(sorted([i for i in T], key=lambda x: x[1]))"
   ]
  },
  {
   "cell_type": "code",
   "execution_count": null,
   "metadata": {},
   "outputs": [],
   "source": []
  },
  {
   "cell_type": "code",
   "execution_count": null,
   "metadata": {},
   "outputs": [],
   "source": []
  }
 ],
 "metadata": {
  "kernelspec": {
   "display_name": "Python 3",
   "language": "python",
   "name": "python3"
  },
  "language_info": {
   "codemirror_mode": {
    "name": "ipython",
    "version": 3
   },
   "file_extension": ".py",
   "mimetype": "text/x-python",
   "name": "python",
   "nbconvert_exporter": "python",
   "pygments_lexer": "ipython3",
   "version": "3.6.5"
  }
 },
 "nbformat": 4,
 "nbformat_minor": 2
}
