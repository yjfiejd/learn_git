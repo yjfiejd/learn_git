{
 "cells": [
  {
   "cell_type": "code",
   "execution_count": 1,
   "metadata": {},
   "outputs": [],
   "source": [
    "a = []"
   ]
  },
  {
   "cell_type": "code",
   "execution_count": 2,
   "metadata": {},
   "outputs": [],
   "source": [
    "u = [0, 0, 0, 1, 2]\n",
    "v = [1, 2, 3, 3, 3]\n",
    "w = [0,6, 5, 15, 4]"
   ]
  },
  {
   "cell_type": "code",
   "execution_count": 3,
   "metadata": {},
   "outputs": [
    {
     "data": {
      "text/plain": [
       "[[[0, 0, 0, 1, 2], [1, 2, 3, 3, 3], [0, 6, 5, 15, 4]]]"
      ]
     },
     "execution_count": 3,
     "metadata": {},
     "output_type": "execute_result"
    }
   ],
   "source": [
    "a.append([u, v, w])\n",
    "a"
   ]
  },
  {
   "cell_type": "code",
   "execution_count": 4,
   "metadata": {},
   "outputs": [],
   "source": [
    "from collections import defaultdict\n",
    "\n",
    "class Graph:\n",
    "\n",
    "    def __init__(self, vertex):\n",
    "        self.V = vertex  # 节点个数\n",
    "        self.graph = []  # 定义一个list来存储图\n",
    "\n",
    "    # 添加边\n",
    "    def addEdge(self, u, v, w):\n",
    "        self.graph.append([u, v, w])\n",
    "\n",
    "    # 路径压缩算法\n",
    "    def find(self, parent, i):\n",
    "        if parent[i] == i:\n",
    "            return i\n",
    "        return self.find(parent, parent[i])\n",
    "\n",
    "    # 并查集\n",
    "    def union(self, parent, rank, x, y):\n",
    "        xroot = self.find(parent, x)\n",
    "        yroot = self.find(parent, y)\n",
    "\n",
    "        if rank[xroot] < rank[yroot]:\n",
    "            parent[xroot] = yroot\n",
    "        elif rank[xroot] > rank[yroot]:\n",
    "            parent[yroot] = xroot\n",
    "        else:\n",
    "            parent[yroot] = xroot\n",
    "            rank[xroot] += 1\n",
    "            \n",
    "    def KruskalMST(self):\n",
    "\n",
    "        result = []  # 用于存储最后的最小生成树\n",
    "        i = 0  # 用于边权值排序\n",
    "        e = 0  # 用于result[]\n",
    "\n",
    "        # 1) 对边的权值进行排序\n",
    "        # 对由字典排序 ，返回由tuple组成的List, 不再是字典。\n",
    "        self.graph = sorted(self.graph, key=lambda item: item[2])\n",
    "        print(self.graph)\n",
    "        parent = []\n",
    "        rank = []\n",
    "        for node in range(self.V):  # 建立子集V，顶点个数\n",
    "            parent.append(node)\n",
    "            rank.append(0)\n",
    "\n",
    "        # 2) 选择最小的边 , i 递增\n",
    "        while e < self.V - 1:  # 边的条数应该为顶点个数-1\n",
    "            u, v, w = self.graph[i]\n",
    "            i = i + 1\n",
    "            x = self.find(parent, u)\n",
    "            y = self.find(parent, v)\n",
    "            print(\"x\", x)\n",
    "            print(\"y\", y)\n",
    "            # 如果边不增加环，则把这条边加入result\n",
    "            if x != y:\n",
    "                e = e + 1\n",
    "                result.append([u, v, w])\n",
    "                self.union(parent, rank, x, y)\n",
    "\n",
    "\n",
    "        print(\"下面是构建的MST - 边表示法: \")\n",
    "        for u, v, weight in result:\n",
    "            print(\"%d -- %d == %d\" % (u, v, weight))"
   ]
  },
  {
   "cell_type": "code",
   "execution_count": 5,
   "metadata": {},
   "outputs": [],
   "source": [
    "g = Graph(4)"
   ]
  },
  {
   "cell_type": "code",
   "execution_count": null,
   "metadata": {},
   "outputs": [],
   "source": [
    "# g.addEdge(0, 1, 10)\n",
    "# g.addEdge(1, 2, 6)\n",
    "# g.addEdge(0, 3, 5)\n",
    "# g.addEdge(1, 3, 15)\n",
    "# g.addEdge(2, 3, 4)"
   ]
  },
  {
   "cell_type": "code",
   "execution_count": 6,
   "metadata": {},
   "outputs": [],
   "source": [
    "for i in range(len(u)):\n",
    "    g.addEdge(u[i], v[i], w[i])"
   ]
  },
  {
   "cell_type": "code",
   "execution_count": 7,
   "metadata": {},
   "outputs": [
    {
     "name": "stdout",
     "output_type": "stream",
     "text": [
      "[[0, 1, 0], [2, 3, 4], [0, 3, 5], [0, 2, 6], [1, 3, 15]]\n",
      "x 0\n",
      "y 1\n",
      "x 2\n",
      "y 3\n",
      "x 0\n",
      "y 2\n",
      "下面是构建的MST - 边表示法: \n",
      "0 -- 1 == 0\n",
      "2 -- 3 == 4\n",
      "0 -- 3 == 5\n"
     ]
    }
   ],
   "source": [
    "g.KruskalMST()"
   ]
  },
  {
   "cell_type": "code",
   "execution_count": 8,
   "metadata": {},
   "outputs": [],
   "source": [
    "#################  测试2 ###################"
   ]
  },
  {
   "cell_type": "code",
   "execution_count": 19,
   "metadata": {},
   "outputs": [],
   "source": [
    "old_graph = {\n",
    "    0:{1:10, 2:6, 3:5},\n",
    "    1:{3:15},\n",
    "    2:{3:4}\n",
    "}"
   ]
  },
  {
   "cell_type": "code",
   "execution_count": 24,
   "metadata": {},
   "outputs": [
    {
     "name": "stdout",
     "output_type": "stream",
     "text": [
      "---start----\n",
      "{0: {1: 10, 2: 6, 3: 5}}\n",
      "{1: 10}\n",
      "---end----\n",
      "{1: 10, 2: 6}\n",
      "---end----\n",
      "{1: 10, 2: 6, 3: 5}\n",
      "---end----\n",
      "---start----\n",
      "{0: {1: 10, 2: 6, 3: 5}, 1: {3: 15}}\n",
      "{1: 10, 2: 6, 3: 15}\n",
      "---end----\n",
      "---start----\n",
      "{0: {1: 10, 2: 6, 3: 5}, 1: {3: 15}, 2: {3: 4}}\n",
      "{1: 10, 2: 6, 3: 4}\n",
      "---end----\n"
     ]
    }
   ],
   "source": [
    "l = {}\n",
    "s = {}\n",
    "for k, v in old_graph.items():\n",
    "    l[k] = v\n",
    "    print('---start----')\n",
    "    print(l)\n",
    "    for i, j in v.items():\n",
    "        s[i] = j\n",
    "        print(s)\n",
    "        print('---end----')\n",
    "        "
   ]
  },
  {
   "cell_type": "code",
   "execution_count": null,
   "metadata": {},
   "outputs": [],
   "source": []
  },
  {
   "cell_type": "code",
   "execution_count": null,
   "metadata": {},
   "outputs": [],
   "source": [
    "a = old_graph.keys()\n",
    "a"
   ]
  },
  {
   "cell_type": "code",
   "execution_count": null,
   "metadata": {},
   "outputs": [],
   "source": [
    "#获取第一列的数据\n",
    "def get_list_1(graph_in):\n",
    "    list_1 = []\n",
    "    for i in range(len(graph_in)):\n",
    "        list_1 = list(graph_in.keys())\n",
    "    return list_1"
   ]
  },
  {
   "cell_type": "code",
   "execution_count": null,
   "metadata": {},
   "outputs": [],
   "source": [
    "get_list_1(old_graph)"
   ]
  }
 ],
 "metadata": {
  "kernelspec": {
   "display_name": "Python 3",
   "language": "python",
   "name": "python3"
  },
  "language_info": {
   "codemirror_mode": {
    "name": "ipython",
    "version": 3
   },
   "file_extension": ".py",
   "mimetype": "text/x-python",
   "name": "python",
   "nbconvert_exporter": "python",
   "pygments_lexer": "ipython3",
   "version": "3.6.5"
  }
 },
 "nbformat": 4,
 "nbformat_minor": 2
}
